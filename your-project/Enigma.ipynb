{
 "cells": [
  {
   "cell_type": "markdown",
   "metadata": {},
   "source": [
    "# Cifrado Enigma\n",
    "\n",
    "El siguiente algoritmo está inspirado en el famoso cifrado de la máquina Enigma que usó Alemania en la Segunda Guerra Mundial.\n",
    "Dentro de las particularidades es que el alfabeto estaba conformado por 26 letras, no existían números ni espacios."
   ]
  },
  {
   "cell_type": "code",
   "execution_count": 102,
   "metadata": {},
   "outputs": [],
   "source": [
    "import re"
   ]
  },
  {
   "cell_type": "code",
   "execution_count": 103,
   "metadata": {},
   "outputs": [],
   "source": [
    "rotor1=[\"A\",\"B\",\"C\",\"D\",\"E\",\"F\",\"G\",\"H\",\"I\",\"J\",\"K\",\"L\",\"M\",\"N\",\"O\",\"P\",\"Q\",\"R\",\"S\",\"T\",\"U\",\"V\",\"W\",\"X\",\"Y\",\"Z\"]\n",
    "rotor2=[\"Gira 1 vez cada vuelta del rotor 3, y por cada 26 giros hace girar una vez al rotor 1\"]\n",
    "rotor3=[\"A\",\"B\",\"C\",\"D\",\"E\",\"F\",\"G\",\"H\",\"I\",\"J\",\"K\",\"L\",\"M\",\"N\",\"O\",\"P\",\"Q\",\"R\",\"S\",\"T\",\"U\",\"V\",\"W\",\"X\",\"Y\",\"Z\"]"
   ]
  },
  {
   "cell_type": "code",
   "execution_count": 104,
   "metadata": {},
   "outputs": [],
   "source": [
    "#Mueve lista (rotor) en dirección de cifrado\n",
    "def girarotor(x):\n",
    "    x.append(x[0])\n",
    "    del x[0]\n",
    "    return x"
   ]
  },
  {
   "cell_type": "code",
   "execution_count": 105,
   "metadata": {},
   "outputs": [],
   "source": [
    "#Mueve lista en dirección de descifrado\n",
    "def girarotor_inv(x):\n",
    "    x=list(x[25])+list(x[0:25])\n",
    "    return x"
   ]
  },
  {
   "cell_type": "code",
   "execution_count": 106,
   "metadata": {},
   "outputs": [],
   "source": [
    "###Cifrar mensaje\n",
    "def cifrar(mensaje):\n",
    "    rotor1=[\"A\",\"B\",\"C\",\"D\",\"E\",\"F\",\"G\",\"H\",\"I\",\"J\",\"K\",\"L\",\"M\",\"N\",\"O\",\"P\",\"Q\",\"R\",\"S\",\"T\",\"U\",\"V\",\"W\",\"X\",\"Y\",\"Z\"]\n",
    "    rotor3=[\"A\",\"B\",\"C\",\"D\",\"E\",\"F\",\"G\",\"H\",\"I\",\"J\",\"K\",\"L\",\"M\",\"N\",\"O\",\"P\",\"Q\",\"R\",\"S\",\"T\",\"U\",\"V\",\"W\",\"X\",\"Y\",\"Z\"]\n",
    "    texto_cifrado=\"\"\n",
    "    i=0\n",
    "    while i<len(mensaje):\n",
    "        r1=rotor1.index(mensaje[i])\n",
    "        r3=rotor3[r1]\n",
    "        texto_cifrado=texto_cifrado+r3\n",
    "        rotor3=girarotor(rotor3)\n",
    "        i+=1\n",
    "        if i%676==0:\n",
    "            rotor1=girarotor(rotor1)\n",
    "    return print(texto_cifrado)"
   ]
  },
  {
   "cell_type": "code",
   "execution_count": 107,
   "metadata": {},
   "outputs": [],
   "source": [
    "###Descifrar mensaje\n",
    "def descifrar(mensaje):\n",
    "    rotor1=[\"A\",\"B\",\"C\",\"D\",\"E\",\"F\",\"G\",\"H\",\"I\",\"J\",\"K\",\"L\",\"M\",\"N\",\"O\",\"P\",\"Q\",\"R\",\"S\",\"T\",\"U\",\"V\",\"W\",\"X\",\"Y\",\"Z\"]\n",
    "    rotor3=[\"A\",\"B\",\"C\",\"D\",\"E\",\"F\",\"G\",\"H\",\"I\",\"J\",\"K\",\"L\",\"M\",\"N\",\"O\",\"P\",\"Q\",\"R\",\"S\",\"T\",\"U\",\"V\",\"W\",\"X\",\"Y\",\"Z\"]\n",
    "    texto_descifrado=\"\"\n",
    "    i=1\n",
    "    while i<len(mensaje):\n",
    "        i+=1\n",
    "        rotor3=girarotor(rotor3)\n",
    "        if i%676==0:\n",
    "            rotor1=girarotor(rotor1)\n",
    "    j=0\n",
    "    while j<len(mensaje):\n",
    "        j+=1\n",
    "        r3=rotor3.index(mensaje[-j])\n",
    "        r1=rotor1[r3]\n",
    "        texto_descifrado=texto_descifrado+r1\n",
    "        rotor3=girarotor_inv(rotor3)\n",
    "        if i%676==0:\n",
    "            rotor1=girarotor_inv(rotor1)\n",
    "    texto_descifrado=list(reversed(texto_descifrado))\n",
    "    texto_descifrado=\"\".join(texto_descifrado)\n",
    "    return texto_descifrado"
   ]
  },
  {
   "cell_type": "code",
   "execution_count": 109,
   "metadata": {},
   "outputs": [
    {
     "name": "stdin",
     "output_type": "stream",
     "text": [
      "Escriba mensaje, sin acentos, números ni caracteres especiales:\n",
      " Enigma era el nombre de una maquina de rotores que permitia usarla tanto para cifrar como para descifrar mensajes.\n"
     ]
    }
   ],
   "source": [
    "texto=input(\"Escriba mensaje, sin acentos, números ni caracteres especiales:\\n\").upper().replace(\" \",\"\")\n",
    "texto=re.sub(\"[^A-Z]+\",\"\",texto)"
   ]
  },
  {
   "cell_type": "code",
   "execution_count": 111,
   "metadata": {},
   "outputs": [
    {
     "name": "stdout",
     "output_type": "stream",
     "text": [
      "EOKJQFKYINVYAZPGUUWNHVIXOTIOCGIWUAWAODCHSEUIEBNDWRQZRMCWESZVXJBLOVTGQIUHGJLXPZDFUFMKXHZVOYENXTI\n",
      "None\n"
     ]
    }
   ],
   "source": [
    "texto_cifrado=cifrar(texto)\n",
    "print(texto_cifrado)"
   ]
  },
  {
   "cell_type": "code",
   "execution_count": 114,
   "metadata": {},
   "outputs": [
    {
     "data": {
      "text/plain": [
       "'ENIGMAERAELNOMBREDEUNAMAQUINADEROTORESQUEPERMITIAUSARLATANTOPARACIFRARCOMOPARADESCIFRARMENSAJES'"
      ]
     },
     "execution_count": 114,
     "metadata": {},
     "output_type": "execute_result"
    }
   ],
   "source": [
    "descifrar(\"EOKJQFKYINVYAZPGUUWNHVIXOTIOCGIWUAWAODCHSEUIEBNDWRQZRMCWESZVXJBLOVTGQIUHGJLXPZDFUFMKXHZVOYENXTI\")"
   ]
  }
 ],
 "metadata": {
  "kernelspec": {
   "display_name": "Python 3",
   "language": "python",
   "name": "python3"
  },
  "language_info": {
   "codemirror_mode": {
    "name": "ipython",
    "version": 3
   },
   "file_extension": ".py",
   "mimetype": "text/x-python",
   "name": "python",
   "nbconvert_exporter": "python",
   "pygments_lexer": "ipython3",
   "version": "3.6.2"
  }
 },
 "nbformat": 4,
 "nbformat_minor": 4
}
